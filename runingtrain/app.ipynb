{
 "cells": [
  {
   "cell_type": "code",
   "execution_count": null,
   "id": "cfc0a3c7",
   "metadata": {},
   "outputs": [],
   "source": [
    "# %%\n",
    "import streamlit as st\n",
    "import pandas as pd\n",
    "import matplotlib.pyplot as plt\n",
    "import seaborn as sns\n",
    "import plotly.express as px\n",
    "import os\n",
    "from sklearn.linear_model import LogisticRegression\n",
    "from sklearn.preprocessing import StandardScaler\n",
    "from sklearn.metrics import accuracy_score, classification_report\n",
    "\n",
    "# Streamlit 페이지 설정\n",
    "st.set_page_config(page_title=\"한국철도공사 역별 승하차 현황 (2023)\", layout=\"wide\")\n",
    "\n",
    "# 한글 폰트 설정 (Matplotlib)\n",
    "plt.rcParams['font.family'] = 'Malgun Gothic'  # Windows 기준\n",
    "plt.rcParams['axes.unicode_minus'] = False\n",
    "\n",
    "# 제목\n",
    "st.title(\"한국철도공사 역별 승하차 현황 (2023)\")"
   ]
  },
  {
   "cell_type": "code",
   "execution_count": null,
   "id": "3613a962",
   "metadata": {},
   "outputs": [],
   "source": [
    "# %%\n",
    "@st.cache_data\n",
    "def load_data():\n",
    "    csv_path = 'dataset/한국철도공사_역별 승하차 현황_20231231.csv'\n",
    "    if not os.path.exists(csv_path):\n",
    "        st.error(f\"파일 '{csv_path}'를 찾을 수 없습니다. 공공데이터포털에서 다운로드해 'dataset' 폴더에 저장하세요.\")\n",
    "        # 샘플 데이터 생성\n",
    "        data = {\n",
    "            'Station': ['서울역', '수서역', '부산역', '대전역', '광주역'],\n",
    "            'Boarding': [50000, 30000, 40000, 25000, 20000],\n",
    "            'Alighting': [48000, 29000, 39000, 24000, 19000]\n",
    "        }\n",
    "        df = pd.DataFrame(data)\n",
    "    else:\n",
    "        try:\n",
    "            df = pd.read_csv(csv_path, encoding='cp949')  # CP949 인코딩 사용\n",
    "        except Exception as e:\n",
    "            st.error(f\"CSV 파일 로드 중 오류: {e}. 인코딩을 'utf-8'로 시도하거나 파일 형식을 확인하세요.\")\n",
    "            df = pd.DataFrame()  # 빈 데이터프레임 반환\n",
    "    return df\n",
    "\n",
    "df = load_data()"
   ]
  },
  {
   "cell_type": "code",
   "execution_count": null,
   "id": "360be7f8",
   "metadata": {},
   "outputs": [],
   "source": [
    "# %%\n",
    "if not df.empty:\n",
    "    # 열 이름 조정\n",
    "    try:\n",
    "        df = df.rename(columns={'역명': 'Station', '승차인원': 'Boarding', '하차인원': 'Alighting'})\n",
    "    except KeyError:\n",
    "        st.warning(\"CSV 파일의 열 이름을 확인하세요. 예상 열: '역명', '승차인원', '하차인원'.\")\n",
    "\n",
    "    # 누락값 처리\n",
    "    df = df.dropna()\n",
    "    # 총 승하차 인원 계산\n",
    "    df['Total_Passengers'] = df['Boarding'] + df['Alighting']\n",
    "    # 역별 데이터 집계\n",
    "    station_usage = df.groupby('Station')[['Boarding', 'Alighting', 'Total_Passengers']].sum().reset_index()\n",
    "else:\n",
    "    st.error(\"데이터를 로드하지 못해 시각화를 생성할 수 없습니다.\")"
   ]
  },
  {
   "cell_type": "code",
   "execution_count": null,
   "id": "375184b6",
   "metadata": {},
   "outputs": [],
   "source": [
    "# %%\n",
    "if not df.empty:\n",
    "    st.sidebar.header(\"옵션\")\n",
    "    selected_stations = st.sidebar.multiselect(\n",
    "        \"시각화할 역 선택\", options=station_usage['Station'].unique(), default=station_usage['Station'].unique()[:5]\n",
    "    )\n",
    "    # 필터링된 데이터\n",
    "    filtered_usage = station_usage[station_usage['Station'].isin(selected_stations)]"
   ]
  },
  {
   "cell_type": "code",
   "execution_count": null,
   "id": "2412c5aa",
   "metadata": {},
   "outputs": [],
   "source": [
    "# %%\n",
    "if not df.empty:\n",
    "    st.subheader(\"역별 총 승하차 인원\")\n",
    "    fig, ax = plt.subplots(figsize=(10, 6))\n",
    "    sns.barplot(x='Total_Passengers', y='Station', data=filtered_usage.sort_values('Total_Passengers', ascending=False), ax=ax)\n",
    "    ax.set_title('역별 총 승하차 인원 (2023)')\n",
    "    ax.set_xlabel('총 승하차 인원')\n",
    "    ax.set_ylabel('역 이름')\n",
    "    plt.tight_layout()\n",
    "    st.pyplot(fig)"
   ]
  },
  {
   "cell_type": "code",
   "execution_count": null,
   "id": "86e54dd5",
   "metadata": {},
   "outputs": [],
   "source": [
    "# %%\n",
    "if not df.empty:\n",
    "    st.subheader(\"역별 승차 vs 하차 인원\")\n",
    "    fig_plotly = px.bar(\n",
    "        filtered_usage, x='Station', y=['Boarding', 'Alighting'],\n",
    "        title='역별 승차 및 하차 인원 비교',\n",
    "        labels={'value': '인원', 'Station': '역 이름', 'variable': '구분'},\n",
    "        barmode='group'\n",
    "    )\n",
    "    st.plotly_chart(fig_plotly, use_container_width=True)"
   ]
  },
  {
   "cell_type": "code",
   "execution_count": null,
   "id": "ddfa24a9",
   "metadata": {},
   "outputs": [],
   "source": [
    "# %%\n",
    "if not df.empty:\n",
    "    st.subheader(\"데이터 테이블\")\n",
    "    st.dataframe(filtered_usage[['Station', 'Boarding', 'Alighting', 'Total_Passengers']], use_container_width=True)"
   ]
  },
  {
   "cell_type": "code",
   "execution_count": null,
   "id": "9dc09e30",
   "metadata": {},
   "outputs": [],
   "source": [
    "# %%\n",
    "if not df.empty:\n",
    "    st.subheader(\"데이터 요약\")\n",
    "    st.write(f\"선택된 역 수: {len(filtered_usage)}\")\n",
    "    st.write(f\"총 승차 인원: {filtered_usage['Boarding'].sum():,.0f}\")\n",
    "    st.write(f\"총 하차 인원: {filtered_usage['Alighting'].sum():,.0f}\")\n",
    "    st.write(f\"총 승하차 인원: {filtered_usage['Total_Passengers'].sum():,.0f}\")"
   ]
  },
  {
   "cell_type": "code",
   "execution_count": null,
   "id": "edc9a1e7",
   "metadata": {},
   "outputs": [],
   "source": [
    "# %%\n",
    "if not df.empty:\n",
    "    st.subheader(\"역 분류: 붐비는 역 vs 한적한 역\")\n",
    "    # 중앙값을 기준으로 클래스 라벨 생성\n",
    "    threshold = station_usage['Total_Passengers'].median()\n",
    "    station_usage['Crowdedness'] = station_usage['Total_Passengers'].apply(\n",
    "        lambda x: '붐비는 역' if x >= threshold else '한적한 역'\n",
    "    )\n",
    "\n",
    "    # 특성과 타겟 설정\n",
    "    X = station_usage[['Boarding', 'Alighting', 'Total_Passengers']]\n",
    "    y = station_usage['Crowdedness']\n",
    "\n",
    "    # 데이터 스케일링\n",
    "    scaler = StandardScaler()\n",
    "    X_scaled = scaler.fit_transform(X)\n",
    "\n",
    "    # 로지스틱 회귀 모델 학습\n",
    "    model = LogisticRegression(random_state=42)\n",
    "    model.fit(X_scaled, y)\n",
    "\n",
    "    # 예측\n",
    "    station_usage['Predicted_Crowdedness'] = model.predict(X_scaled)\n",
    "\n",
    "    # 모델 성능\n",
    "    accuracy = accuracy_score(y, station_usage['Predicted_Crowdedness'])\n",
    "    st.write(f\"모델 정확도: {accuracy:.2f}\")\n",
    "    st.write(\"분류 보고서:\")\n",
    "    st.text(classification_report(y, station_usage['Predicted_Crowdedness']))"
   ]
  },
  {
   "cell_type": "code",
   "execution_count": null,
   "id": "8434e5cd",
   "metadata": {},
   "outputs": [],
   "source": [
    "# %%\n",
    "if not df.empty:\n",
    "    st.subheader(\"분류 결과\")\n",
    "    st.dataframe(station_usage[['Station', 'Boarding', 'Alighting', 'Total_Passengers', 'Crowdedness', 'Predicted_Crowdedness']], use_container_width=True)"
   ]
  },
  {
   "cell_type": "code",
   "execution_count": null,
   "id": "4fd3e3c9",
   "metadata": {},
   "outputs": [],
   "source": [
    "# %%\n",
    "if not df.empty:\n",
    "    st.subheader(\"분류 시각화\")\n",
    "    fig_class = px.scatter(\n",
    "        station_usage, x='Total_Passengers', y='Station', color='Predicted_Crowdedness',\n",
    "        title='역별 분류 결과 (붐비는 역 vs 한적한 역)',\n",
    "        labels={'Total_Passengers': '총 승하차 인원', 'Station': '역 이름', 'Predicted_Crowdedness': '분류'},\n",
    "        color_discrete_map={'붐비는 역': 'red', '한적한 역': 'blue'}\n",
    "    )\n",
    "    st.plotly_chart(fig_class, use_container_width=True)"
   ]
  },
  {
   "cell_type": "code",
   "execution_count": null,
   "id": "21230e11",
   "metadata": {},
   "outputs": [],
   "source": [
    "# %%\n",
    "if df.empty:\n",
    "    st.error(\"데이터를 로드하지 못해 시각화를 생성할 수 없습니다.\")"
   ]
  }
 ],
 "metadata": {
  "language_info": {
   "name": "python"
  }
 },
 "nbformat": 4,
 "nbformat_minor": 5
}
